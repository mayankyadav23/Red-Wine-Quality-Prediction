{
 "cells": [
  {
   "cell_type": "code",
   "execution_count": 1,
   "metadata": {},
   "outputs": [],
   "source": [
    "import pandas as pd\n",
    "import numpy as np\n",
    "import matplotlib.pyplot as plt"
   ]
  },
  {
   "cell_type": "code",
   "execution_count": 2,
   "metadata": {},
   "outputs": [],
   "source": [
    "dataset = pd.read_csv('preprocessed_data.csv', index_col = 0)"
   ]
  },
  {
   "cell_type": "code",
   "execution_count": 3,
   "metadata": {},
   "outputs": [
    {
     "data": {
      "text/html": [
       "<div>\n",
       "<style scoped>\n",
       "    .dataframe tbody tr th:only-of-type {\n",
       "        vertical-align: middle;\n",
       "    }\n",
       "\n",
       "    .dataframe tbody tr th {\n",
       "        vertical-align: top;\n",
       "    }\n",
       "\n",
       "    .dataframe thead th {\n",
       "        text-align: right;\n",
       "    }\n",
       "</style>\n",
       "<table border=\"1\" class=\"dataframe\">\n",
       "  <thead>\n",
       "    <tr style=\"text-align: right;\">\n",
       "      <th></th>\n",
       "      <th>fixed acidity</th>\n",
       "      <th>volatile acidity</th>\n",
       "      <th>citric acid</th>\n",
       "      <th>chlorides</th>\n",
       "      <th>total sulfur dioxide</th>\n",
       "      <th>density</th>\n",
       "      <th>sulphates</th>\n",
       "      <th>alcohol</th>\n",
       "      <th>quality</th>\n",
       "      <th>good_wine</th>\n",
       "    </tr>\n",
       "  </thead>\n",
       "  <tbody>\n",
       "    <tr>\n",
       "      <th>0</th>\n",
       "      <td>7.4</td>\n",
       "      <td>0.70</td>\n",
       "      <td>0.00</td>\n",
       "      <td>0.076</td>\n",
       "      <td>34.0</td>\n",
       "      <td>0.9978</td>\n",
       "      <td>0.56</td>\n",
       "      <td>9.4</td>\n",
       "      <td>5</td>\n",
       "      <td>0</td>\n",
       "    </tr>\n",
       "    <tr>\n",
       "      <th>1</th>\n",
       "      <td>7.8</td>\n",
       "      <td>0.88</td>\n",
       "      <td>0.00</td>\n",
       "      <td>0.098</td>\n",
       "      <td>67.0</td>\n",
       "      <td>0.9968</td>\n",
       "      <td>0.68</td>\n",
       "      <td>9.8</td>\n",
       "      <td>5</td>\n",
       "      <td>0</td>\n",
       "    </tr>\n",
       "    <tr>\n",
       "      <th>2</th>\n",
       "      <td>7.8</td>\n",
       "      <td>0.76</td>\n",
       "      <td>0.04</td>\n",
       "      <td>0.092</td>\n",
       "      <td>54.0</td>\n",
       "      <td>0.9970</td>\n",
       "      <td>0.65</td>\n",
       "      <td>9.8</td>\n",
       "      <td>5</td>\n",
       "      <td>0</td>\n",
       "    </tr>\n",
       "    <tr>\n",
       "      <th>3</th>\n",
       "      <td>11.2</td>\n",
       "      <td>0.28</td>\n",
       "      <td>0.56</td>\n",
       "      <td>0.075</td>\n",
       "      <td>60.0</td>\n",
       "      <td>0.9980</td>\n",
       "      <td>0.58</td>\n",
       "      <td>9.8</td>\n",
       "      <td>6</td>\n",
       "      <td>1</td>\n",
       "    </tr>\n",
       "    <tr>\n",
       "      <th>4</th>\n",
       "      <td>7.4</td>\n",
       "      <td>0.70</td>\n",
       "      <td>0.00</td>\n",
       "      <td>0.076</td>\n",
       "      <td>34.0</td>\n",
       "      <td>0.9978</td>\n",
       "      <td>0.56</td>\n",
       "      <td>9.4</td>\n",
       "      <td>5</td>\n",
       "      <td>0</td>\n",
       "    </tr>\n",
       "  </tbody>\n",
       "</table>\n",
       "</div>"
      ],
      "text/plain": [
       "   fixed acidity  volatile acidity  citric acid  chlorides  \\\n",
       "0            7.4              0.70         0.00      0.076   \n",
       "1            7.8              0.88         0.00      0.098   \n",
       "2            7.8              0.76         0.04      0.092   \n",
       "3           11.2              0.28         0.56      0.075   \n",
       "4            7.4              0.70         0.00      0.076   \n",
       "\n",
       "   total sulfur dioxide  density  sulphates  alcohol  quality  good_wine  \n",
       "0                  34.0   0.9978       0.56      9.4        5          0  \n",
       "1                  67.0   0.9968       0.68      9.8        5          0  \n",
       "2                  54.0   0.9970       0.65      9.8        5          0  \n",
       "3                  60.0   0.9980       0.58      9.8        6          1  \n",
       "4                  34.0   0.9978       0.56      9.4        5          0  "
      ]
     },
     "execution_count": 3,
     "metadata": {},
     "output_type": "execute_result"
    }
   ],
   "source": [
    "dataset.head()"
   ]
  },
  {
   "cell_type": "markdown",
   "metadata": {},
   "source": [
    "### Splitting Dataset Into Train And Test Sets"
   ]
  },
  {
   "cell_type": "code",
   "execution_count": 4,
   "metadata": {},
   "outputs": [],
   "source": [
    "from sklearn.model_selection import train_test_split\n",
    "\n",
    "#Selecting Features (X)\n",
    "X = dataset.drop('quality', axis=1).values\n",
    "# Selecting Outcome / Target Variable (y)\n",
    "y = dataset['good_wine'].values\n",
    "\n",
    "X_train, X_test, y_train, y_test = train_test_split(X, y, test_size=0.2, random_state=333)"
   ]
  },
  {
   "cell_type": "markdown",
   "metadata": {},
   "source": [
    "### Scaling The Data (Using MinMax Scaler)"
   ]
  },
  {
   "cell_type": "code",
   "execution_count": 5,
   "metadata": {},
   "outputs": [],
   "source": [
    "from sklearn.preprocessing import MinMaxScaler\n",
    "scaler = MinMaxScaler()\n",
    "\n",
    "X_train = scaler.fit_transform(X_train)\n",
    "X_test = scaler.transform(X_test)"
   ]
  },
  {
   "cell_type": "markdown",
   "metadata": {},
   "source": [
    "### Model Training"
   ]
  },
  {
   "cell_type": "code",
   "execution_count": 6,
   "metadata": {},
   "outputs": [],
   "source": [
    "from tensorflow.keras.models import Sequential\n",
    "from tensorflow.keras.layers import Dense, Dropout"
   ]
  },
  {
   "cell_type": "code",
   "execution_count": 7,
   "metadata": {},
   "outputs": [],
   "source": [
    "model = Sequential()"
   ]
  },
  {
   "cell_type": "code",
   "execution_count": 8,
   "metadata": {},
   "outputs": [],
   "source": [
    "model.add(Dense(9, activation='relu'))\n",
    "model.add(Dropout(0.2))\n",
    "model.add(Dense(6, activation='relu'))\n",
    "model.add(Dropout(0.4))\n",
    "model.add(Dense(3, activation='relu'))\n",
    "model.add(Dense(1, activation='sigmoid'))\n",
    "\n",
    "# Compiling Mode\n",
    "model.compile(loss='binary_crossentropy')"
   ]
  },
  {
   "cell_type": "code",
   "execution_count": 9,
   "metadata": {},
   "outputs": [
    {
     "name": "stdout",
     "output_type": "stream",
     "text": [
      "Train on 1279 samples, validate on 320 samples\n",
      "Epoch 1/100\n",
      "1279/1279 [==============================] - 2s 1ms/sample - loss: 0.6883 - val_loss: 0.6239\n",
      "Epoch 2/100\n",
      "1279/1279 [==============================] - 0s 154us/sample - loss: 0.6177 - val_loss: 0.5625\n",
      "Epoch 3/100\n",
      "1279/1279 [==============================] - 0s 162us/sample - loss: 0.5693 - val_loss: 0.5128\n",
      "Epoch 4/100\n",
      "1279/1279 [==============================] - 0s 158us/sample - loss: 0.5456 - val_loss: 0.4638\n",
      "Epoch 5/100\n",
      "1279/1279 [==============================] - 0s 178us/sample - loss: 0.5023 - val_loss: 0.4170\n",
      "Epoch 6/100\n",
      "1279/1279 [==============================] - 0s 166us/sample - loss: 0.4652 - val_loss: 0.3812\n",
      "Epoch 7/100\n",
      "1279/1279 [==============================] - 0s 164us/sample - loss: 0.4422 - val_loss: 0.3506\n",
      "Epoch 8/100\n",
      "1279/1279 [==============================] - 0s 161us/sample - loss: 0.4238 - val_loss: 0.3300\n",
      "Epoch 9/100\n",
      "1279/1279 [==============================] - 0s 175us/sample - loss: 0.3936 - val_loss: 0.3108\n",
      "Epoch 10/100\n",
      "1279/1279 [==============================] - 0s 163us/sample - loss: 0.3722 - val_loss: 0.2971\n",
      "Epoch 11/100\n",
      "1279/1279 [==============================] - 0s 171us/sample - loss: 0.3872 - val_loss: 0.2869\n",
      "Epoch 12/100\n",
      "1279/1279 [==============================] - 0s 157us/sample - loss: 0.3694 - val_loss: 0.2766\n",
      "Epoch 13/100\n",
      "1279/1279 [==============================] - 0s 155us/sample - loss: 0.3487 - val_loss: 0.2668\n",
      "Epoch 14/100\n",
      "1279/1279 [==============================] - 0s 164us/sample - loss: 0.3313 - val_loss: 0.2580\n",
      "Epoch 15/100\n",
      "1279/1279 [==============================] - 0s 177us/sample - loss: 0.3250 - val_loss: 0.2495\n",
      "Epoch 16/100\n",
      "1279/1279 [==============================] - 0s 148us/sample - loss: 0.3113 - val_loss: 0.2414\n",
      "Epoch 17/100\n",
      "1279/1279 [==============================] - 0s 179us/sample - loss: 0.3069 - val_loss: 0.2342\n",
      "Epoch 18/100\n",
      "1279/1279 [==============================] - 0s 166us/sample - loss: 0.2966 - val_loss: 0.2269\n",
      "Epoch 19/100\n",
      "1279/1279 [==============================] - 0s 171us/sample - loss: 0.2803 - val_loss: 0.2200\n",
      "Epoch 20/100\n",
      "1279/1279 [==============================] - 0s 173us/sample - loss: 0.2706 - val_loss: 0.2131\n",
      "Epoch 21/100\n",
      "1279/1279 [==============================] - 0s 161us/sample - loss: 0.2602 - val_loss: 0.2068\n",
      "Epoch 22/100\n",
      "1279/1279 [==============================] - 0s 175us/sample - loss: 0.2561 - val_loss: 0.2000\n",
      "Epoch 23/100\n",
      "1279/1279 [==============================] - 0s 182us/sample - loss: 0.2359 - val_loss: 0.1933\n",
      "Epoch 24/100\n",
      "1279/1279 [==============================] - 0s 200us/sample - loss: 0.2326 - val_loss: 0.1871\n",
      "Epoch 25/100\n",
      "1279/1279 [==============================] - 0s 184us/sample - loss: 0.2402 - val_loss: 0.1812\n",
      "Epoch 26/100\n",
      "1279/1279 [==============================] - 0s 162us/sample - loss: 0.2141 - val_loss: 0.1754\n",
      "Epoch 27/100\n",
      "1279/1279 [==============================] - 0s 152us/sample - loss: 0.2116 - val_loss: 0.1696\n",
      "Epoch 28/100\n",
      "1279/1279 [==============================] - 0s 188us/sample - loss: 0.1970 - val_loss: 0.1639\n",
      "Epoch 29/100\n",
      "1279/1279 [==============================] - 0s 178us/sample - loss: 0.1908 - val_loss: 0.1586\n",
      "Epoch 30/100\n",
      "1279/1279 [==============================] - 0s 208us/sample - loss: 0.1849 - val_loss: 0.1533\n",
      "Epoch 31/100\n",
      "1279/1279 [==============================] - 0s 211us/sample - loss: 0.1836 - val_loss: 0.1483\n",
      "Epoch 32/100\n",
      "1279/1279 [==============================] - 0s 213us/sample - loss: 0.1801 - val_loss: 0.1435\n",
      "Epoch 33/100\n",
      "1279/1279 [==============================] - 0s 212us/sample - loss: 0.1697 - val_loss: 0.1388\n",
      "Epoch 34/100\n",
      "1279/1279 [==============================] - 0s 202us/sample - loss: 0.1680 - val_loss: 0.1342\n",
      "Epoch 35/100\n",
      "1279/1279 [==============================] - 0s 188us/sample - loss: 0.1677 - val_loss: 0.1298\n",
      "Epoch 36/100\n",
      "1279/1279 [==============================] - 0s 195us/sample - loss: 0.1666 - val_loss: 0.1256\n",
      "Epoch 37/100\n",
      "1279/1279 [==============================] - 0s 185us/sample - loss: 0.1523 - val_loss: 0.1213\n",
      "Epoch 38/100\n",
      "1279/1279 [==============================] - 0s 165us/sample - loss: 0.1473 - val_loss: 0.1171\n",
      "Epoch 39/100\n",
      "1279/1279 [==============================] - 0s 164us/sample - loss: 0.1520 - val_loss: 0.1132\n",
      "Epoch 40/100\n",
      "1279/1279 [==============================] - 0s 169us/sample - loss: 0.1373 - val_loss: 0.1093\n",
      "Epoch 41/100\n",
      "1279/1279 [==============================] - 0s 168us/sample - loss: 0.1326 - val_loss: 0.1056\n",
      "Epoch 42/100\n",
      "1279/1279 [==============================] - 0s 168us/sample - loss: 0.1298 - val_loss: 0.1021\n",
      "Epoch 43/100\n",
      "1279/1279 [==============================] - 0s 188us/sample - loss: 0.1285 - val_loss: 0.0986\n",
      "Epoch 44/100\n",
      "1279/1279 [==============================] - 0s 171us/sample - loss: 0.1266 - val_loss: 0.0953\n",
      "Epoch 45/100\n",
      "1279/1279 [==============================] - 0s 170us/sample - loss: 0.1222 - val_loss: 0.0921\n",
      "Epoch 46/100\n",
      "1279/1279 [==============================] - 0s 169us/sample - loss: 0.1269 - val_loss: 0.0890\n",
      "Epoch 47/100\n",
      "1279/1279 [==============================] - 0s 180us/sample - loss: 0.1153 - val_loss: 0.0860\n",
      "Epoch 48/100\n",
      "1279/1279 [==============================] - 0s 167us/sample - loss: 0.1265 - val_loss: 0.0832\n",
      "Epoch 49/100\n",
      "1279/1279 [==============================] - 0s 169us/sample - loss: 0.1155 - val_loss: 0.0804\n",
      "Epoch 50/100\n",
      "1279/1279 [==============================] - 0s 177us/sample - loss: 0.1080 - val_loss: 0.0777\n",
      "Epoch 51/100\n",
      "1279/1279 [==============================] - 0s 165us/sample - loss: 0.1050 - val_loss: 0.0751\n",
      "Epoch 52/100\n",
      "1279/1279 [==============================] - 0s 157us/sample - loss: 0.0978 - val_loss: 0.0725\n",
      "Epoch 53/100\n",
      "1279/1279 [==============================] - 0s 159us/sample - loss: 0.1003 - val_loss: 0.0701\n",
      "Epoch 54/100\n",
      "1279/1279 [==============================] - 0s 160us/sample - loss: 0.0999 - val_loss: 0.0678\n",
      "Epoch 55/100\n",
      "1279/1279 [==============================] - 0s 171us/sample - loss: 0.0989 - val_loss: 0.0656\n",
      "Epoch 56/100\n",
      "1279/1279 [==============================] - 0s 160us/sample - loss: 0.1041 - val_loss: 0.0636\n",
      "Epoch 57/100\n",
      "1279/1279 [==============================] - 0s 169us/sample - loss: 0.1073 - val_loss: 0.0616\n",
      "Epoch 58/100\n",
      "1279/1279 [==============================] - 0s 163us/sample - loss: 0.1008 - val_loss: 0.0597\n",
      "Epoch 59/100\n",
      "1279/1279 [==============================] - 0s 192us/sample - loss: 0.0969 - val_loss: 0.0578\n",
      "Epoch 60/100\n",
      "1279/1279 [==============================] - 0s 151us/sample - loss: 0.1058 - val_loss: 0.0563\n",
      "Epoch 61/100\n",
      "1279/1279 [==============================] - 0s 158us/sample - loss: 0.0967 - val_loss: 0.0545\n",
      "Epoch 62/100\n",
      "1279/1279 [==============================] - 0s 167us/sample - loss: 0.0765 - val_loss: 0.0526\n",
      "Epoch 63/100\n",
      "1279/1279 [==============================] - 0s 154us/sample - loss: 0.0918 - val_loss: 0.0511\n",
      "Epoch 64/100\n",
      "1279/1279 [==============================] - 0s 172us/sample - loss: 0.0704 - val_loss: 0.0494\n",
      "Epoch 65/100\n",
      "1279/1279 [==============================] - 0s 156us/sample - loss: 0.0911 - val_loss: 0.0478\n",
      "Epoch 66/100\n",
      "1279/1279 [==============================] - 0s 163us/sample - loss: 0.0863 - val_loss: 0.0464\n",
      "Epoch 67/100\n",
      "1279/1279 [==============================] - 0s 168us/sample - loss: 0.0967 - val_loss: 0.0452\n",
      "Epoch 68/100\n",
      "1279/1279 [==============================] - 0s 161us/sample - loss: 0.0854 - val_loss: 0.0439\n",
      "Epoch 69/100\n",
      "1279/1279 [==============================] - 0s 164us/sample - loss: 0.1005 - val_loss: 0.0429\n",
      "Epoch 70/100\n",
      "1279/1279 [==============================] - 0s 166us/sample - loss: 0.0833 - val_loss: 0.0417\n",
      "Epoch 71/100\n",
      "1279/1279 [==============================] - 0s 165us/sample - loss: 0.0803 - val_loss: 0.0404\n",
      "Epoch 72/100\n",
      "1279/1279 [==============================] - 0s 146us/sample - loss: 0.0732 - val_loss: 0.0392\n",
      "Epoch 73/100\n",
      "1279/1279 [==============================] - 0s 164us/sample - loss: 0.0701 - val_loss: 0.0380\n",
      "Epoch 74/100\n",
      "1279/1279 [==============================] - 0s 151us/sample - loss: 0.0625 - val_loss: 0.0367\n",
      "Epoch 75/100\n",
      "1279/1279 [==============================] - 0s 168us/sample - loss: 0.0906 - val_loss: 0.0360\n",
      "Epoch 76/100\n"
     ]
    },
    {
     "name": "stdout",
     "output_type": "stream",
     "text": [
      "1279/1279 [==============================] - 0s 190us/sample - loss: 0.0804 - val_loss: 0.0351\n",
      "Epoch 77/100\n",
      "1279/1279 [==============================] - 0s 167us/sample - loss: 0.0821 - val_loss: 0.0343\n",
      "Epoch 78/100\n",
      "1279/1279 [==============================] - 0s 145us/sample - loss: 0.0587 - val_loss: 0.0333\n",
      "Epoch 79/100\n",
      "1279/1279 [==============================] - 0s 186us/sample - loss: 0.0735 - val_loss: 0.0324\n",
      "Epoch 80/100\n",
      "1279/1279 [==============================] - 0s 186us/sample - loss: 0.0856 - val_loss: 0.0319\n",
      "Epoch 81/100\n",
      "1279/1279 [==============================] - 0s 160us/sample - loss: 0.0705 - val_loss: 0.0312\n",
      "Epoch 82/100\n",
      "1279/1279 [==============================] - 0s 166us/sample - loss: 0.0754 - val_loss: 0.0305\n",
      "Epoch 83/100\n",
      "1279/1279 [==============================] - 0s 182us/sample - loss: 0.0713 - val_loss: 0.0299\n",
      "Epoch 84/100\n",
      "1279/1279 [==============================] - 0s 161us/sample - loss: 0.0645 - val_loss: 0.0292\n",
      "Epoch 85/100\n",
      "1279/1279 [==============================] - 0s 161us/sample - loss: 0.0604 - val_loss: 0.0283\n",
      "Epoch 86/100\n",
      "1279/1279 [==============================] - 0s 156us/sample - loss: 0.0793 - val_loss: 0.0278\n",
      "Epoch 87/100\n",
      "1279/1279 [==============================] - 0s 169us/sample - loss: 0.0535 - val_loss: 0.0270\n",
      "Epoch 88/100\n",
      "1279/1279 [==============================] - 0s 282us/sample - loss: 0.0756 - val_loss: 0.0266\n",
      "Epoch 89/100\n",
      "1279/1279 [==============================] - 0s 260us/sample - loss: 0.0711 - val_loss: 0.0260\n",
      "Epoch 90/100\n",
      "1279/1279 [==============================] - 0s 197us/sample - loss: 0.0725 - val_loss: 0.0256\n",
      "Epoch 91/100\n",
      "1279/1279 [==============================] - 0s 197us/sample - loss: 0.0569 - val_loss: 0.0249\n",
      "Epoch 92/100\n",
      "1279/1279 [==============================] - 0s 176us/sample - loss: 0.0650 - val_loss: 0.0243\n",
      "Epoch 93/100\n",
      "1279/1279 [==============================] - 0s 174us/sample - loss: 0.0702 - val_loss: 0.0239\n",
      "Epoch 94/100\n",
      "1279/1279 [==============================] - 0s 175us/sample - loss: 0.0628 - val_loss: 0.0234\n",
      "Epoch 95/100\n",
      "1279/1279 [==============================] - 0s 204us/sample - loss: 0.0718 - val_loss: 0.0230\n",
      "Epoch 96/100\n",
      "1279/1279 [==============================] - 0s 181us/sample - loss: 0.0620 - val_loss: 0.0227\n",
      "Epoch 97/100\n",
      "1279/1279 [==============================] - 0s 175us/sample - loss: 0.0625 - val_loss: 0.0222\n",
      "Epoch 98/100\n",
      "1279/1279 [==============================] - 0s 294us/sample - loss: 0.0636 - val_loss: 0.0218\n",
      "Epoch 99/100\n",
      "1279/1279 [==============================] - 0s 256us/sample - loss: 0.0597 - val_loss: 0.0214\n",
      "Epoch 100/100\n",
      "1279/1279 [==============================] - 0s 317us/sample - loss: 0.0731 - val_loss: 0.0211\n"
     ]
    },
    {
     "data": {
      "text/plain": [
       "<tensorflow.python.keras.callbacks.History at 0x21e0d6f8608>"
      ]
     },
     "execution_count": 9,
     "metadata": {},
     "output_type": "execute_result"
    }
   ],
   "source": [
    "model.fit(x=X_train, y=y_train, epochs=100, validation_data = (X_test, y_test), verbose=1)"
   ]
  },
  {
   "cell_type": "code",
   "execution_count": 10,
   "metadata": {},
   "outputs": [
    {
     "data": {
      "text/plain": [
       "<matplotlib.axes._subplots.AxesSubplot at 0x21e6a24bd88>"
      ]
     },
     "execution_count": 10,
     "metadata": {},
     "output_type": "execute_result"
    },
    {
     "data": {
      "image/png": "[encoded data removed]",
      "text/plain": [
       "<Figure size 432x288 with 1 Axes>"
      ]
     },
     "metadata": {
      "needs_background": "light"
     },
     "output_type": "display_data"
    }
   ],
   "source": [
    "pd.DataFrame(model.history.history).plot()"
   ]
  },
  {
   "cell_type": "code",
   "execution_count": 11,
   "metadata": {},
   "outputs": [],
   "source": [
    "predictions = np.round(model.predict(X_test))"
   ]
  },
  {
   "cell_type": "code",
   "execution_count": 12,
   "metadata": {},
   "outputs": [],
   "source": [
    "from sklearn.metrics import classification_report, confusion_matrix"
   ]
  },
  {
   "cell_type": "code",
   "execution_count": 13,
   "metadata": {},
   "outputs": [
    {
     "name": "stdout",
     "output_type": "stream",
     "text": [
      "              precision    recall  f1-score   support\n",
      "\n",
      "           0       1.00      1.00      1.00       147\n",
      "           1       1.00      1.00      1.00       173\n",
      "\n",
      "    accuracy                           1.00       320\n",
      "   macro avg       1.00      1.00      1.00       320\n",
      "weighted avg       1.00      1.00      1.00       320\n",
      "\n"
     ]
    }
   ],
   "source": [
    "print(classification_report(y_test, predictions))"
   ]
  },
  {
   "cell_type": "code",
   "execution_count": 14,
   "metadata": {},
   "outputs": [],
   "source": [
    "from tensorflow.keras.models import load_model\n",
    "model.save('wine_predictor_model.h5')"
   ]
  }
 ],
 "metadata": {
  "kernelspec": {
   "display_name": "Python 3",
   "language": "python",
   "name": "python3"
  },
  "language_info": {
   "codemirror_mode": {
    "name": "ipython",
    "version": 3
   },
   "file_extension": ".py",
   "mimetype": "text/x-python",
   "name": "python",
   "nbconvert_exporter": "python",
   "pygments_lexer": "ipython3",
   "version": "3.7.7"
  }
 },
 "nbformat": 4,
 "nbformat_minor": 4
}
